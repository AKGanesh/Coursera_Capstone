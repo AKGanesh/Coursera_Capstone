{
 "cells": [
  {
   "cell_type": "markdown",
   "metadata": {},
   "source": [
    "# 1.0 Intro and Description of the Problem\n",
    "> My wellwisher runs a successful restaurant chain in the Eastern Region of Canada with 4 restaurants spread between Ottawa, Toronto and a Montreal now wants to explore the pizza restaurant oppurtunities and has decided to start with the largest communties in Manitoba.\n",
    "\n",
    "> As a owner, it is obvious and success factor that your business is should not be close to the competitors while ensuring it is also close to major attractions in the city. Therefore, he wants to know the best possible places to locate his new restaurant that will be have the least competition and the most attractions.\n",
    "\n",
    "# 1.1 Target Audience\n",
    "> This project helps anyone wants to setup business in Manitoba and would want to know what is the competition around the communities..\n",
    "\n",
    "# 1.2 Discussion on the background\n",
    "> Manitoba is a province at the longitudinal centre of Canada. It is often considered one of the three prairie provinces (with Alberta and Saskatchewan) and is Canada's fifth-most populous province with its estimated 1.3 million people. The province is bordered by the provinces of Ontario to the east and Saskatchewan to the west, the territories of Nunavut to the north, and Northwest Territories to the northwest, and the U.S. states of North Dakota and Minnesota to the south. Winnipeg and Brandon are the most populated communities.\n",
    "\n",
    ">Winnipeg is the capital and largest city of the province of Manitoba in Canada. As of 2011, Winnipeg is the seventh most populated municipality in Canada.\n",
    "Known as the \"Gateway to the West\", Winnipeg is a railway and transportation hub with a diversified economy. This multicultural city hosts numerous annual festivals.\n",
    "\n",
    "\n",
    "# 2.0 Data\n",
    "> This project relies on public data from Wikipedia and details from FourSquare.\n",
    "\n",
    "> List of communities in Manitoba by population has been retrieved from Wikipedia (https://en.wikipedia.org/wiki/List_of_communities_in_Manitoba_by_population) which is \n",
    "the foundation of the analysis.\n",
    "\n",
    "> Details about the venues in Manitoba had been received from Foursquare API. https://developer.foursquare.com/docs/api/venues/explore endpoint specifically helps us giving venue recommendations. It will return a list of recommended venues near the location specified. \n",
    "We have two different types of endpoints: Regular and Premium. Regular endpoints include basic venue firmographic data, category, and ID. Premium endpoints include rich content such as ratings, URLs, photos, tips, menus, etc. Restrictions apply based on your account type, with further details documented on our rate limits page.\n",
    "\n",
    "> Additional work on marking attractions and identifying competition had performed by owner of the restaurent chain on a scale of 0-10 (0-low 10-high). For example, Higher score in attraction (10) and Minimun score in competition (2) gives a weightage of 8 (10-2).\n",
    "For a clutser of venues, we consider the average of of all venue weights and the cluster with the highest average weight will the best location for the restaurent.\n",
    "\n",
    "> ![Canada](https://upload.wikimedia.org/wikipedia/commons/thumb/a/a2/Map_Canada_political-geo.png/680px-Map_Canada_political-geo.png \"Canada Map\")"
   ]
  },
  {
   "cell_type": "markdown",
   "metadata": {},
   "source": [
    "# What could be the best location for the restaurant, is coming soon...( In week 2 submission )"
   ]
  },
  {
   "cell_type": "code",
   "execution_count": 1,
   "metadata": {},
   "outputs": [],
   "source": [
    "# End of the notebook"
   ]
  }
 ],
 "metadata": {
  "kernelspec": {
   "display_name": "Python 3",
   "language": "python",
   "name": "python3"
  },
  "language_info": {
   "codemirror_mode": {
    "name": "ipython",
    "version": 3
   },
   "file_extension": ".py",
   "mimetype": "text/x-python",
   "name": "python",
   "nbconvert_exporter": "python",
   "pygments_lexer": "ipython3",
   "version": "3.7.0"
  }
 },
 "nbformat": 4,
 "nbformat_minor": 2
}
